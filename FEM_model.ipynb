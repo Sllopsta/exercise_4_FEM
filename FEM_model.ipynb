{
 "cells": [
  {
   "cell_type": "code",
   "execution_count": 1,
   "id": "cf5a6c4f",
   "metadata": {},
   "outputs": [],
   "source": [
    "import numpy as np\n",
    "import matplotlib.pyplot as plt"
   ]
  },
  {
   "cell_type": "code",
   "execution_count": 44,
   "id": "14afaaab",
   "metadata": {},
   "outputs": [],
   "source": [
    "\"\"\"\n",
    "NSSCII - FEM.\n",
    "Input to be parsed through.\n",
    "\n",
    "SI-units to be used:\n",
    "    + T in K\n",
    "    + L in m\n",
    "    + k in W/(mK)\n",
    "    + q in W/m^2 - ad Neumann\n",
    "    + P in W - ad nodal forces\n",
    "\"\"\"\n",
    "\n",
    "# Group number.\n",
    "groupnr = 7\n",
    "\n",
    "# Length in x- and y-direction.\n",
    "L = 0.01\n",
    "\n",
    "# Thickness (z-direction).\n",
    "hz = 0.001\n",
    "\n",
    "# Thermal conductivity (k=k_xx=k_yy, k_xy = 0.).\n",
    "k = 326.\n",
    "\n",
    "# Factor c for modifying thermal conductivity k for\n",
    "# elements in elements_to_be_modified.\n",
    "c = 30.\n",
    "\n",
    "# Elements to be modified.\n",
    "'''\n",
    "elements_to_be_modified = [\n",
    "                          7-15\n",
    "                          25-31\n",
    "                          43-47\n",
    "                          61-63\n",
    "                          79\n",
    "                          ]\n",
    "'''\n",
    "\n",
    "# Boundary conditions. (q is acting as a heat sink!)\n",
    "q = 3000000. # at y = L\n",
    "T = 373. # at y = 0"
   ]
  },
  {
   "cell_type": "code",
   "execution_count": 45,
   "id": "30d0ed13",
   "metadata": {},
   "outputs": [],
   "source": [
    "class Node():\n",
    "    def __init__(self, x, y, num):\n",
    "        self.x = x\n",
    "        self.y = y\n",
    "        if num <= 10:\n",
    "            self.T = T\n",
    "        else:\n",
    "            self.T = 0\n",
    "        self.q = 0\n",
    "        self.node_num = num"
   ]
  },
  {
   "cell_type": "code",
   "execution_count": 46,
   "id": "cd7adc08",
   "metadata": {},
   "outputs": [],
   "source": [
    "class Element():\n",
    "    def __init__(self, n1, n2, n3, num):\n",
    "        self.node1 = n1\n",
    "        self.node2 = n2\n",
    "        self.node3 = n3\n",
    "        self.element_num = num\n",
    "        \n",
    "        \n",
    "        self.b = np.zeros(3)\n",
    "        self.b[0] = self.node2.y - self.node3.y\n",
    "        self.b[1] = self.node3.y - self.node1.y\n",
    "        self.b[2] = self.node1.y - self.node2.y\n",
    "        \n",
    "        self.c = np.zeros(3)\n",
    "        self.c[0] = self.node3.x - self.node2.x\n",
    "        self.c[1] = self.node1.x - self.node3.x\n",
    "        self.c[2] = self.node2.x - self.node1.x\n",
    "        \n",
    "        self.area = (self.node1.x * self.b[0] + self.node2.x * self.b[1] + self.node3.x * self.b[2])/2\n",
    "        \n",
    "        self.stiffness_matrix = np.zeros([3, 3])\n",
    "        for i in range(3):\n",
    "            for j in range(3):\n",
    "                self.stiffness_matrix[i][j] = self.b[i]*self.b[j] + self.c[j]*self.c[i]\n",
    "        self.stiffness_matrix *= k/(4*self.area)*hz\n",
    "        \n",
    "        self.T = np.zeros((3, point_num))\n",
    "        self.T[0][self.node1.node_num - 1] = 1\n",
    "        self.T[1][self.node2.node_num - 1] = 1\n",
    "        self.T[2][self.node3.node_num - 1] = 1\n",
    "        \n",
    "        self.global_part = self.T.transpose() @ self.stiffness_matrix @ self.T\n",
    "        \n",
    "    def vertices(self):\n",
    "        return [self.node1.node_num, self.node2.node_num, self.node3.node_num]"
   ]
  },
  {
   "cell_type": "code",
   "execution_count": 47,
   "id": "4495bcb8",
   "metadata": {},
   "outputs": [],
   "source": [
    "m = 10\n",
    "n = 10\n",
    "point_num = m * n\n",
    "\n",
    "x = np.linspace(0, L, n)\n",
    "y = np.linspace(0, L, m)\n",
    "\n",
    "grid = np.meshgrid(x, y)"
   ]
  },
  {
   "cell_type": "code",
   "execution_count": 48,
   "id": "e288349b",
   "metadata": {},
   "outputs": [],
   "source": [
    "points = []\n",
    "for i in range(point_num):\n",
    "    points.append(Node(grid[0].flatten()[i], grid[1].flatten()[i], i+1))"
   ]
  },
  {
   "cell_type": "code",
   "execution_count": 49,
   "id": "a82797e8",
   "metadata": {},
   "outputs": [],
   "source": [
    "elements = []\n",
    "j = 0\n",
    "for i in range((n-1)*(m-1)*2):\n",
    "    if i % 2 == 0:\n",
    "        elements.append(Element(points[j], points[j + 1], points[j + n], i+1))\n",
    "        j += n + 1\n",
    "    else:\n",
    "        elements.append(Element(points[j], points[j - 1], points[j - n], i+1))\n",
    "        if (i + 1) % (2 * (n - 1)) == 0:\n",
    "            j = j - n + 1\n",
    "        else:\n",
    "            j -= n"
   ]
  },
  {
   "cell_type": "markdown",
   "id": "48dcc8c9",
   "metadata": {},
   "source": [
    "elements = []\n",
    "j = 0\n",
    "k = 1\n",
    "for i in range(point_num-2*n+1):\n",
    "    elements.append(Element(points[j], points[j+1], points[j+10], k))\n",
    "    k+=1\n",
    "            \n",
    "    elements.append(Element(points[j+1], points[j+11], points[j+10], k))\n",
    "    k+=1\n",
    "    j += 1\n",
    "    if (j +1) % n == 0:\n",
    "        j+=1\n"
   ]
  },
  {
   "cell_type": "code",
   "execution_count": 50,
   "id": "eb4aa5a3",
   "metadata": {
    "scrolled": false
   },
   "outputs": [
    {
     "name": "stdout",
     "output_type": "stream",
     "text": [
      "[[ 0.326 -0.163  0.    ...  0.     0.     0.   ]\n",
      " [-0.163  0.652 -0.163 ...  0.     0.     0.   ]\n",
      " [ 0.    -0.163  0.652 ...  0.     0.     0.   ]\n",
      " ...\n",
      " [ 0.     0.     0.    ...  0.652 -0.163  0.   ]\n",
      " [ 0.     0.     0.    ... -0.163  0.652 -0.163]\n",
      " [ 0.     0.     0.    ...  0.    -0.163  0.326]]\n"
     ]
    }
   ],
   "source": [
    "glob = np.zeros((point_num, point_num))\n",
    "for i in elements:\n",
    "    glob += i.global_part\n",
    "string =np.array2string(glob)\n",
    "print(string)\n"
   ]
  },
  {
   "cell_type": "code",
   "execution_count": 51,
   "id": "f064e07c",
   "metadata": {},
   "outputs": [],
   "source": [
    "P = np.zeros(point_num)\n",
    "P[-n:] = 1/3*-q*hz*2.469135802469136e-06"
   ]
  },
  {
   "cell_type": "code",
   "execution_count": 52,
   "id": "20523cb1",
   "metadata": {},
   "outputs": [],
   "source": [
    "P[-n+1:-1] *=2"
   ]
  },
  {
   "cell_type": "code",
   "execution_count": 53,
   "id": "cb148e66",
   "metadata": {},
   "outputs": [],
   "source": [
    "Temp=np.ones(point_num)*T"
   ]
  },
  {
   "cell_type": "code",
   "execution_count": 54,
   "id": "464d8fe6",
   "metadata": {},
   "outputs": [],
   "source": [
    "Temp[10:] = np.linalg.solve(glob[10:100, 10:100], P[10:] - glob[10:100, 0:10] @ Temp[0:10])"
   ]
  },
  {
   "cell_type": "code",
   "execution_count": 55,
   "id": "38f0a72e",
   "metadata": {},
   "outputs": [],
   "source": [
    "P[0:10] = glob[0:10, 0:10] @ Temp[0:10] + glob[0:10, 10:100] @ Temp[10:100]\n"
   ]
  },
  {
   "cell_type": "code",
   "execution_count": 56,
   "id": "8b765483",
   "metadata": {},
   "outputs": [
    {
     "data": {
      "text/plain": [
       "array([[ 0.326, -0.163,  0.   , ...,  0.   ,  0.   ,  0.   ],\n",
       "       [-0.163,  0.652, -0.163, ...,  0.   ,  0.   ,  0.   ],\n",
       "       [ 0.   , -0.163,  0.652, ...,  0.   ,  0.   ,  0.   ],\n",
       "       ...,\n",
       "       [ 0.   ,  0.   ,  0.   , ...,  0.652, -0.163,  0.   ],\n",
       "       [ 0.   ,  0.   ,  0.   , ..., -0.163,  0.652, -0.163],\n",
       "       [ 0.   ,  0.   ,  0.   , ...,  0.   , -0.163,  0.326]])"
      ]
     },
     "execution_count": 56,
     "metadata": {},
     "output_type": "execute_result"
    }
   ],
   "source": [
    "glob"
   ]
  },
  {
   "cell_type": "code",
   "execution_count": 57,
   "id": "55f9faeb",
   "metadata": {},
   "outputs": [
    {
     "data": {
      "text/plain": [
       "array([ 0.00246914,  0.00493827,  0.00493827,  0.00493827,  0.00493827,\n",
       "        0.00493827,  0.00493827,  0.00493827,  0.00493827,  0.00246914,\n",
       "        0.        ,  0.        ,  0.        ,  0.        ,  0.        ,\n",
       "        0.        ,  0.        ,  0.        ,  0.        ,  0.        ,\n",
       "        0.        ,  0.        ,  0.        ,  0.        ,  0.        ,\n",
       "        0.        ,  0.        ,  0.        ,  0.        ,  0.        ,\n",
       "        0.        ,  0.        ,  0.        ,  0.        ,  0.        ,\n",
       "        0.        ,  0.        ,  0.        ,  0.        ,  0.        ,\n",
       "        0.        ,  0.        ,  0.        ,  0.        ,  0.        ,\n",
       "        0.        ,  0.        ,  0.        ,  0.        ,  0.        ,\n",
       "        0.        ,  0.        ,  0.        ,  0.        ,  0.        ,\n",
       "        0.        ,  0.        ,  0.        ,  0.        ,  0.        ,\n",
       "        0.        ,  0.        ,  0.        ,  0.        ,  0.        ,\n",
       "        0.        ,  0.        ,  0.        ,  0.        ,  0.        ,\n",
       "        0.        ,  0.        ,  0.        ,  0.        ,  0.        ,\n",
       "        0.        ,  0.        ,  0.        ,  0.        ,  0.        ,\n",
       "        0.        ,  0.        ,  0.        ,  0.        ,  0.        ,\n",
       "        0.        ,  0.        ,  0.        ,  0.        ,  0.        ,\n",
       "       -0.00246914, -0.00493827, -0.00493827, -0.00493827, -0.00493827,\n",
       "       -0.00493827, -0.00493827, -0.00493827, -0.00493827, -0.00246914])"
      ]
     },
     "execution_count": 57,
     "metadata": {},
     "output_type": "execute_result"
    }
   ],
   "source": [
    "P"
   ]
  },
  {
   "cell_type": "code",
   "execution_count": 58,
   "id": "c5554a7c",
   "metadata": {},
   "outputs": [
    {
     "data": {
      "text/plain": [
       "array([373.        , 373.        , 373.        , 373.        ,\n",
       "       373.        , 373.        , 373.        , 373.        ,\n",
       "       373.        , 373.        , 372.98485193, 372.98485193,\n",
       "       372.98485193, 372.98485193, 372.98485193, 372.98485193,\n",
       "       372.98485193, 372.98485193, 372.98485193, 372.98485193,\n",
       "       372.96970386, 372.96970386, 372.96970386, 372.96970386,\n",
       "       372.96970386, 372.96970386, 372.96970386, 372.96970386,\n",
       "       372.96970386, 372.96970386, 372.95455578, 372.95455578,\n",
       "       372.95455578, 372.95455578, 372.95455578, 372.95455578,\n",
       "       372.95455578, 372.95455578, 372.95455578, 372.95455578,\n",
       "       372.93940771, 372.93940771, 372.93940771, 372.93940771,\n",
       "       372.93940771, 372.93940771, 372.93940771, 372.93940771,\n",
       "       372.93940771, 372.93940771, 372.92425964, 372.92425964,\n",
       "       372.92425964, 372.92425964, 372.92425964, 372.92425964,\n",
       "       372.92425964, 372.92425964, 372.92425964, 372.92425964,\n",
       "       372.90911157, 372.90911157, 372.90911157, 372.90911157,\n",
       "       372.90911157, 372.90911157, 372.90911157, 372.90911157,\n",
       "       372.90911157, 372.90911157, 372.89396349, 372.89396349,\n",
       "       372.89396349, 372.89396349, 372.89396349, 372.89396349,\n",
       "       372.89396349, 372.89396349, 372.89396349, 372.89396349,\n",
       "       372.87881542, 372.87881542, 372.87881542, 372.87881542,\n",
       "       372.87881542, 372.87881542, 372.87881542, 372.87881542,\n",
       "       372.87881542, 372.87881542, 372.86366735, 372.86366735,\n",
       "       372.86366735, 372.86366735, 372.86366735, 372.86366735,\n",
       "       372.86366735, 372.86366735, 372.86366735, 372.86366735])"
      ]
     },
     "execution_count": 58,
     "metadata": {},
     "output_type": "execute_result"
    }
   ],
   "source": [
    "Temp"
   ]
  },
  {
   "cell_type": "code",
   "execution_count": null,
   "id": "19eafc00",
   "metadata": {},
   "outputs": [],
   "source": []
  },
  {
   "cell_type": "code",
   "execution_count": null,
   "id": "900dc29c",
   "metadata": {},
   "outputs": [],
   "source": []
  }
 ],
 "metadata": {
  "kernelspec": {
   "display_name": "Python 3",
   "language": "python",
   "name": "python3"
  },
  "language_info": {
   "codemirror_mode": {
    "name": "ipython",
    "version": 3
   },
   "file_extension": ".py",
   "mimetype": "text/x-python",
   "name": "python",
   "nbconvert_exporter": "python",
   "pygments_lexer": "ipython3",
   "version": "3.8.8"
  }
 },
 "nbformat": 4,
 "nbformat_minor": 5
}
