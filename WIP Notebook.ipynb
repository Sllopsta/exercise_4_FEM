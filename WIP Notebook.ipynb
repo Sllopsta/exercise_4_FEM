{
 "cells": [
  {
   "cell_type": "code",
   "execution_count": null,
   "metadata": {},
   "outputs": [],
   "source": [
    "import numpy as np\n",
    "from matplotlib import pyplot as plt\n",
    "import sympy\n",
    "\n",
    "\n",
    "class node():\n",
    "    def __init__(self):\n",
    "        self.temp=0\n",
    "        self.force=0\n",
    "        self.x=0\n",
    "        self.y=0\n",
    "    \n",
    "class triangle():\n",
    "    \n",
    "    \n",
    "    \n",
    "#shape function ll triangle:\n",
    "s=sympy.symbols('s');t=sympy.symbols('t')\n",
    "N1=(1-s-t)/4\n",
    "N2=(s)/4\n",
    "N3=(t)/4\n",
    "\n",
    "#shape function ur triangle:\n",
    "N1=(1-t)/4\n",
    "N2=(-1+s+t)/4\n",
    "N3=(1-s)/4"
   ]
  }
 ],
 "metadata": {
  "kernelspec": {
   "display_name": "Python 3",
   "language": "python",
   "name": "python3"
  },
  "language_info": {
   "codemirror_mode": {
    "name": "ipython",
    "version": 3
   },
   "file_extension": ".py",
   "mimetype": "text/x-python",
   "name": "python",
   "nbconvert_exporter": "python",
   "pygments_lexer": "ipython3",
   "version": "3.8.5"
  }
 },
 "nbformat": 4,
 "nbformat_minor": 4
}
