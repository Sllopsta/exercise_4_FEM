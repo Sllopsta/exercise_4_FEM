{
 "cells": [
  {
   "cell_type": "code",
   "execution_count": 1,
   "metadata": {
    "scrolled": true
   },
   "outputs": [
    {
     "name": "stdout",
     "output_type": "stream",
     "text": [
      "Matrix([[-0.200500000000000, 0.100250000000000, 0.100250000000000], [0.100250000000000, -0.100250000000000, 0], [0.100250000000000, 0, -0.100250000000000]]) Matrix([[-0.200500000000000, 0.100250000000000, 0.100250000000000], [0.100250000000000, -0.100250000000000, 0], [0.100250000000000, 0, -0.100250000000000]])\n",
      "Matrix([[-0.802000000000000, 0.401000000000000, 0.401000000000000], [0.401000000000000, -0.401000000000000, 0], [0.401000000000000, 0, -0.401000000000000]])\n",
      "Matrix([[-0.802000000000000, 0.401000000000000, 0.401000000000000], [0.401000000000000, -0.401000000000000, 0], [0.401000000000000, 0, -0.401000000000000]])\n"
     ]
    },
    {
     "ename": "NameError",
     "evalue": "name 'glo' is not defined",
     "output_type": "error",
     "traceback": [
      "\u001b[0;31m---------------------------------------------------------------------------\u001b[0m",
      "\u001b[0;31mNameError\u001b[0m                                 Traceback (most recent call last)",
      "\u001b[0;32m<ipython-input-1-549b48ff2c19>\u001b[0m in \u001b[0;36m<module>\u001b[0;34m\u001b[0m\n\u001b[1;32m    139\u001b[0m \u001b[0mQ11_100\u001b[0m\u001b[0;34m=\u001b[0m\u001b[0mnp\u001b[0m\u001b[0;34m.\u001b[0m\u001b[0mzeros\u001b[0m\u001b[0;34m(\u001b[0m\u001b[0;36m90\u001b[0m\u001b[0;34m)\u001b[0m\u001b[0;34m\u001b[0m\u001b[0;34m\u001b[0m\u001b[0m\n\u001b[1;32m    140\u001b[0m \u001b[0mQ11_100\u001b[0m\u001b[0;34m[\u001b[0m\u001b[0;36m80\u001b[0m\u001b[0;34m:\u001b[0m\u001b[0;34m]\u001b[0m\u001b[0;34m=\u001b[0m\u001b[0;34m-\u001b[0m\u001b[0;36m1500000\u001b[0m\u001b[0;34m\u001b[0m\u001b[0;34m\u001b[0m\u001b[0m\n\u001b[0;32m--> 141\u001b[0;31m \u001b[0mHul\u001b[0m\u001b[0;34m=\u001b[0m\u001b[0mglo\u001b[0m\u001b[0;34m[\u001b[0m\u001b[0;36m0\u001b[0m\u001b[0;34m:\u001b[0m\u001b[0;36m10\u001b[0m\u001b[0;34m,\u001b[0m\u001b[0;36m0\u001b[0m\u001b[0;34m:\u001b[0m\u001b[0;36m10\u001b[0m\u001b[0;34m]\u001b[0m\u001b[0;34m\u001b[0m\u001b[0;34m\u001b[0m\u001b[0m\n\u001b[0m\u001b[1;32m    142\u001b[0m \u001b[0mHur\u001b[0m\u001b[0;34m=\u001b[0m\u001b[0mglo\u001b[0m\u001b[0;34m[\u001b[0m\u001b[0;36m10\u001b[0m\u001b[0;34m:\u001b[0m\u001b[0;34m,\u001b[0m\u001b[0;36m0\u001b[0m\u001b[0;34m:\u001b[0m\u001b[0;36m10\u001b[0m\u001b[0;34m]\u001b[0m\u001b[0;34m\u001b[0m\u001b[0;34m\u001b[0m\u001b[0m\n\u001b[1;32m    143\u001b[0m \u001b[0mHll\u001b[0m\u001b[0;34m=\u001b[0m\u001b[0mglo\u001b[0m\u001b[0;34m[\u001b[0m\u001b[0;36m0\u001b[0m\u001b[0;34m:\u001b[0m\u001b[0;36m10\u001b[0m\u001b[0;34m,\u001b[0m\u001b[0;36m10\u001b[0m\u001b[0;34m:\u001b[0m\u001b[0;34m]\u001b[0m\u001b[0;34m\u001b[0m\u001b[0;34m\u001b[0m\u001b[0m\n",
      "\u001b[0;31mNameError\u001b[0m: name 'glo' is not defined"
     ]
    }
   ],
   "source": [
    "import numpy as np\n",
    "from matplotlib import pyplot as plt\n",
    "import sympy as sym\n",
    "from jax import jit\n",
    "h=0.001\n",
    "D=np.eye(2)*401\n",
    "x=[0,1,0]\n",
    "y=[0,0,1]\n",
    "\n",
    "\n",
    "L = 0.02\n",
    "m = 10\n",
    "n = 10\n",
    "point_num = m * n\n",
    "\n",
    "x = np.linspace(0, L, n)\n",
    "y = np.linspace(0, L, m)\n",
    "\n",
    "grid = np.meshgrid(x, y)\n",
    "\n",
    "points = np.zeros((point_num, 2))\n",
    "for i in range(point_num):\n",
    "    points[i, 0], points[i, 1] = grid[0].flatten()[i], grid[1].flatten()[i]\n",
    "    \n",
    "# Storing the points that form a cell in an array (1. points opposing the hypothenuse, numbering counterclockwise)\n",
    "cells = np.zeros(((n-1)*(m-1)*2, 3), dtype=np.int16)\n",
    "j = 0\n",
    "for i in range((n-1)*(m-1)*2):\n",
    "    if i % 2 == 0:\n",
    "        cells[i][0], cells[i][1], cells[i][2] = j, j + 1, j + n\n",
    "        j += n + 1\n",
    "    else:\n",
    "        cells[i][0], cells[i][1], cells[i][2] = j, j - 1, j - n\n",
    "        if (i + 1) % (2 * (n - 1)) == 0:\n",
    "            j = j - n + 1\n",
    "        else:\n",
    "            j -= n\n",
    "    \n",
    "def KE(x,y,D,t):\n",
    "    J=np.asarray([[x[0]-x[2],y[0]-y[2]],[x[1]-x[2],y[1]-y[2]]])\n",
    "    Be=1/np.linalg.det(J)*np.asarray([[J[1,1],0,-J[0,1],0,J[1,1]-J[0,1],0],[0,-J[1,0],0,J[0,0],0,J[1,0]-J[0,0]],[-J[1,0],J[1,1],J[0,0],-J[0,1],J[1,0]-J[0,0],J[0,1]-J[1,1]]])\n",
    "    Ke=0.5*np.linalg.det(J)*t*np.transpose(Be)*D*Be\n",
    "    return Ke\n",
    "\n",
    "\n",
    "#for i in range(len(cells)):\n",
    "    #x1,x2,x3=points[cells[i]][0][0],points[cells[i]][0][1],points[cells[i]][0][2]\n",
    "    #y1,y2,y3=points[cells[i]][1][0],points[cells[i]][1][1],points[cells[i]][1][2]\n",
    "    #b1,b2,b3=y2-y3,y3-y1,y1-y2\n",
    "    #c1,c2,c3=x3-x2,x1-x3,x2-x1\n",
    "    #delta=(x1*b1+x2*b2+x3*b3)/2\n",
    "    #He=[[b1*b1,b1*b2,b1*b3],[b2*b1,b2*b2,b2*b3],[b3*b1,b3*b2,b3*b3]]+[[c1*c1,c2*c1,c3*c1],[c2*c1,c2*c2,c3*c2],[c3*c1,c3*c2,c3*c3]]\n",
    "    #He=He*401*h/delta\n",
    "    #T=np.zeros((3,100))\n",
    "    #T[0,cells[i,0]]=1\n",
    "    #T[1,cells[i,1]]=1\n",
    "    #T[2,cells[i,2]]=1\n",
    "    #T_trans=np.transpose(T)\n",
    "    #add=T_trans@Kl@T\n",
    "    #glo+=add\n",
    "\n",
    "#print(KE(x,y,D,t))\n",
    "#shape function ll triangle:\n",
    "s=sym.symbols('s');t=sym.symbols('t')\n",
    "N1l=(1-s-t)/2\n",
    "N2l=(s)/2\n",
    "N3l=(t)/2\n",
    "\n",
    "\n",
    "\n",
    "#shape function ur triangle:\n",
    "N1u=(1-t)/2\n",
    "N2u=(-1+s+t)/2\n",
    "N3u=(1-s)/2\n",
    "\n",
    "dN1ls=sym.diff(N1l,s)\n",
    "dN1lt=sym.diff(N1l,t)\n",
    "dN2ls=sym.diff(N2l,s)\n",
    "dN2lt=sym.diff(N2l,t)\n",
    "dN3ls=sym.diff(N3l,s)\n",
    "dN3lt=sym.diff(N3l,t)\n",
    "dN1us=sym.diff(N1u,s)\n",
    "dN1ut=sym.diff(N1u,t)\n",
    "dN2us=sym.diff(N2u,s)\n",
    "dN2ut=sym.diff(N2u,t)\n",
    "dN3us=sym.diff(N3u,s)\n",
    "dN3ut=sym.diff(N3u,t)\n",
    "STl=sym.Matrix([[dN1ls,dN2ls,dN3ls],[dN1lt,dN2lt,dN3lt]])\n",
    "STu=sym.Matrix([[dN1us,dN2us,dN3us],[dN1ut,dN2ut,dN3ut]])\n",
    "k_mat=D\n",
    "element=[]\n",
    "for i in range(len(cells)):\n",
    "    a,b,c=points[cells[i][0]],points[cells[i][1]],points[cells[i][2]]\n",
    "    temp=(np.concatenate((a,b,c),axis=0))\n",
    "    element.append(temp)\n",
    "#print(np.asarray(element))\n",
    "\n",
    "xstl=(element[0][0]*N1l)+(element[0][2]*N2l)+(element[0][4]*N3l)\n",
    "xstu=(element[0][0]*N1u)+(element[0][2]*N2u)+(element[0][4]*N3u)\n",
    "ystl=(element[1][1]*N1l)+(element[1][3]*N2l)+(element[1][5]*N3l)\n",
    "ystu=(element[1][1]*N1u)+(element[1][3]*N2u)+(element[1][5]*N3u)\n",
    "Jl=sym.Matrix([[sym.diff(xstl,s),sym.diff(ystl,s)],[sym.diff(xstl,t),sym.diff(ystl,t)]])\n",
    "Ju=sym.Matrix([[sym.diff(xstu,s),sym.diff(ystu,s)],[sym.diff(xstu,t),sym.diff(ystu,t)]])\n",
    "#print(Jl,Ju)\n",
    "Jl_inv=Jl.inv()\n",
    "Ju_inv=Ju.inv()\n",
    "Jl_det=Jl.det()\n",
    "Ju_det=Ju.det()\n",
    "XTl=Jl_inv*STl\n",
    "XTu=Ju_inv*STu\n",
    "XTl_trans=XTl.transpose()\n",
    "XTu_trans=XTu.transpose()\n",
    "KEl=sym.Matrix(3,3,XTl_trans*k_mat*XTl*Jl_det*h)\n",
    "KEu=sym.Matrix(3,3,XTu_trans*k_mat*XTu*Ju_det*h)\n",
    "print(KEl,KEu)\n",
    "Kl=sym.zeros(3,3)\n",
    "Ku=sym.zeros(3,3)\n",
    "for i in range(3):\n",
    "    for j in range(3):\n",
    "        Kl[i,j]=sym.integrate(KEl[i,j],(t,-1,1),(s,-1,1))\n",
    "        Ku[i,j]=sym.integrate(KEu[i,j],(t,-1,1),(s,-1,1))\n",
    "print(Kl)\n",
    "print(Ku)\n",
    "#glo=np.zeros((100,100))\n",
    "#@jit\n",
    "for i in range(len(cells)):\n",
    "    T=np.zeros((3,100))\n",
    "    T[0,cells[i,0]]=1\n",
    "    T[1,cells[i,1]]=1\n",
    "    T[2,cells[i,2]]=1\n",
    "    T_trans=np.transpose(T)\n",
    "    #add=T_trans@Kl@T\n",
    "    #glo+=add\n",
    "#glo=-glo\n",
    "#print(glo)\n",
    "#glo=np.asarray(glo)\n",
    "\n",
    "T1_10=np.ones(10)*373\n",
    "Q11_100=np.zeros(90)\n",
    "Q11_100[80:]=-1500000\n",
    "Hul=glo[0:10,0:10]\n",
    "Hur=glo[10:,0:10]\n",
    "Hll=glo[0:10,10:]\n",
    "Hlr=glo[10:,10:]\n",
    "print(type(Hul),type(T1_10))\n",
    "\n",
    "b=Q11_100-T1_10@Hll\n",
    "print(b)\n",
    "T11_100=np.linalg.solve(Hlr,b)\n",
    "print(T11_100)"
   ]
  },
  {
   "cell_type": "code",
   "execution_count": 52,
   "metadata": {},
   "outputs": [
    {
     "name": "stdout",
     "output_type": "stream",
     "text": [
      "[[ 0.401  -0.2005  0.     ...  0.      0.      0.    ]\n",
      " [-0.2005  0.802  -0.2005 ...  0.      0.      0.    ]\n",
      " [ 0.     -0.2005  0.802  ...  0.      0.      0.    ]\n",
      " ...\n",
      " [ 0.      0.      0.     ...  0.802  -0.2005  0.    ]\n",
      " [ 0.      0.      0.     ... -0.2005  0.802  -0.2005]\n",
      " [ 0.      0.      0.     ...  0.     -0.2005  0.401 ]]\n"
     ]
    }
   ],
   "source": [
    "glo=np.zeros((100,100))\n",
    "\n",
    "for i in range(len(cells)):\n",
    "    x1,x2,x3=points[cells[i]][0][0],points[cells[i]][1][0],points[cells[i]][2][0]\n",
    "    y1,y2,y3=points[cells[i]][0][1],points[cells[i]][1][1],points[cells[i]][2][1]\n",
    "    b1,b2,b3=y2-y3,y3-y1,y1-y2\n",
    "    c1,c2,c3=x3-x2,x1-x3,x2-x1\n",
    "    delta=(x1*b1+x2*b2+x3*b3)/2\n",
    "    factor=np.array(401*h/(4*delta))\n",
    "    He=np.array([[b1*b1,b1*b2,b1*b3],[b2*b1,b2*b2,b2*b3],[b3*b1,b3*b2,b3*b3]])+np.array([[c1*c1,c2*c1,c3*c1],[c2*c1,c2*c2,c3*c2],[c3*c1,c3*c2,c3*c3]])\n",
    "    He=He*factor\n",
    "    T=np.zeros((3,100))\n",
    "    T[0,cells[i,0]]=1\n",
    "    T[1,cells[i,1]]=1\n",
    "    T[2,cells[i,2]]=1\n",
    "    T_trans=np.transpose(T)\n",
    "    add=T_trans@He@T\n",
    "    glo+=add\n",
    "print(glo)\n",
    "\n"
   ]
  },
  {
   "cell_type": "code",
   "execution_count": 54,
   "metadata": {},
   "outputs": [
    {
     "name": "stdout",
     "output_type": "stream",
     "text": [
      "[ 7.4786500e+01  1.4957300e+02  1.4957300e+02  1.4957300e+02\n",
      "  1.4957300e+02  1.4957300e+02  1.4957300e+02  1.4957300e+02\n",
      "  1.4957300e+02  7.4786500e+01  0.0000000e+00  0.0000000e+00\n",
      "  0.0000000e+00  0.0000000e+00  0.0000000e+00  0.0000000e+00\n",
      "  0.0000000e+00  0.0000000e+00  0.0000000e+00  0.0000000e+00\n",
      "  0.0000000e+00  0.0000000e+00  0.0000000e+00  0.0000000e+00\n",
      "  0.0000000e+00  0.0000000e+00  0.0000000e+00  0.0000000e+00\n",
      "  0.0000000e+00  0.0000000e+00  0.0000000e+00  0.0000000e+00\n",
      "  0.0000000e+00  0.0000000e+00  0.0000000e+00  0.0000000e+00\n",
      "  0.0000000e+00  0.0000000e+00  0.0000000e+00  0.0000000e+00\n",
      "  0.0000000e+00  0.0000000e+00  0.0000000e+00  0.0000000e+00\n",
      "  0.0000000e+00  0.0000000e+00  0.0000000e+00  0.0000000e+00\n",
      "  0.0000000e+00  0.0000000e+00  0.0000000e+00  0.0000000e+00\n",
      "  0.0000000e+00  0.0000000e+00  0.0000000e+00  0.0000000e+00\n",
      "  0.0000000e+00  0.0000000e+00  0.0000000e+00  0.0000000e+00\n",
      "  0.0000000e+00  0.0000000e+00  0.0000000e+00  0.0000000e+00\n",
      "  0.0000000e+00  0.0000000e+00  0.0000000e+00  0.0000000e+00\n",
      "  0.0000000e+00  0.0000000e+00  0.0000000e+00  0.0000000e+00\n",
      "  0.0000000e+00  0.0000000e+00  0.0000000e+00  0.0000000e+00\n",
      "  0.0000000e+00  0.0000000e+00  0.0000000e+00  0.0000000e+00\n",
      " -1.2345679e-03 -2.4691358e-03 -2.4691358e-03 -2.4691358e-03\n",
      " -2.4691358e-03 -2.4691358e-03 -2.4691358e-03 -2.4691358e-03\n",
      " -2.4691358e-03 -1.2345679e-03]\n",
      "[373.         373.         373.         373.         373.\n",
      " 373.         373.         373.         373.         373.\n",
      " 372.99384255 372.99384255 372.99384255 372.99384255 372.99384255\n",
      " 372.99384255 372.99384255 372.99384255 372.99384255 372.99384255\n",
      " 372.98768511 372.98768511 372.98768511 372.98768511 372.98768511\n",
      " 372.98768511 372.98768511 372.98768511 372.98768511 372.98768511\n",
      " 372.98152766 372.98152766 372.98152766 372.98152766 372.98152766\n",
      " 372.98152766 372.98152766 372.98152766 372.98152766 372.98152766\n",
      " 372.97537022 372.97537022 372.97537022 372.97537022 372.97537022\n",
      " 372.97537022 372.97537022 372.97537022 372.97537022 372.97537022\n",
      " 372.96921277 372.96921277 372.96921277 372.96921277 372.96921277\n",
      " 372.96921277 372.96921277 372.96921277 372.96921277 372.96921277\n",
      " 372.96305532 372.96305532 372.96305532 372.96305532 372.96305532\n",
      " 372.96305532 372.96305532 372.96305532 372.96305532 372.96305532\n",
      " 372.95689788 372.95689788 372.95689788 372.95689788 372.95689788\n",
      " 372.95689788 372.95689788 372.95689788 372.95689788 372.95689788\n",
      " 372.95074043 372.95074043 372.95074043 372.95074043 372.95074043\n",
      " 372.95074043 372.95074043 372.95074043 372.95074043 372.95074043\n",
      " 372.94458299 372.94458299 372.94458299 372.94458299 372.94458299\n",
      " 372.94458299 372.94458299 372.94458299 372.94458299 372.94458299]\n",
      "[ 1.23456790e-03  2.46913580e-03  2.46913580e-03  2.46913580e-03\n",
      "  2.46913580e-03  2.46913580e-03  2.46913580e-03  2.46913580e-03\n",
      "  2.46913580e-03  1.23456790e-03  0.00000000e+00  0.00000000e+00\n",
      "  0.00000000e+00  0.00000000e+00  5.68434189e-14  0.00000000e+00\n",
      "  0.00000000e+00 -5.68434189e-14  5.68434189e-14 -2.84217094e-14\n",
      "  2.84217094e-14 -5.68434189e-14 -2.27373675e-13  5.68434189e-14\n",
      "  1.13686838e-13  1.13686838e-13 -1.70530257e-13  1.13686838e-13\n",
      "  5.68434189e-14 -2.84217094e-14 -2.84217094e-14  1.13686838e-13\n",
      " -5.68434189e-14  0.00000000e+00  0.00000000e+00  5.68434189e-14\n",
      "  0.00000000e+00 -5.68434189e-14  1.13686838e-13 -5.68434189e-14\n",
      "  0.00000000e+00 -5.68434189e-14  0.00000000e+00  0.00000000e+00\n",
      "  0.00000000e+00 -5.68434189e-14  0.00000000e+00  0.00000000e+00\n",
      "  5.68434189e-14  5.68434189e-14  0.00000000e+00  0.00000000e+00\n",
      " -1.13686838e-13  0.00000000e+00  0.00000000e+00  5.68434189e-14\n",
      "  1.13686838e-13  0.00000000e+00  0.00000000e+00  1.13686838e-13\n",
      "  0.00000000e+00 -5.68434189e-14  0.00000000e+00  1.13686838e-13\n",
      "  1.13686838e-13 -5.68434189e-14  0.00000000e+00 -1.13686838e-13\n",
      "  1.13686838e-13  8.52651283e-14  5.68434189e-14  0.00000000e+00\n",
      " -1.13686838e-13  0.00000000e+00  0.00000000e+00  5.68434189e-14\n",
      "  2.84217094e-13  5.68434189e-14 -1.13686838e-13 -2.84217094e-14\n",
      "  2.84217094e-14 -5.68434189e-14 -5.68434189e-14  5.68434189e-14\n",
      "  0.00000000e+00 -5.68434189e-14 -1.13686838e-13 -5.68434189e-14\n",
      " -1.13686838e-13 -8.52651283e-14 -1.23456790e-03 -2.46913580e-03\n",
      " -2.46913580e-03 -2.46913580e-03 -2.46913580e-03 -2.46913580e-03\n",
      " -2.46913580e-03 -2.46913580e-03 -2.46913580e-03 -1.23456790e-03]\n"
     ]
    }
   ],
   "source": [
    "glo=np.array(glo,dtype=float)\n",
    "T1_10=np.ones(10)*373\n",
    "Q11_100=np.zeros(90)\n",
    "Q11_100[80:]=-1500000*2\n",
    "Q11_100[-10]+=1500000\n",
    "Q11_100[-1]+=1500000\n",
    "Q11_100=Q11_100*h*delta/3\n",
    "Hul=glo[0:10,0:10]\n",
    "Hur=glo[10:,0:10]\n",
    "Hll=glo[0:10,10:]\n",
    "Hlr=glo[10:,10:]\n",
    "b= Q11_100 - Hur@T1_10\n",
    "print(b)\n",
    "T11_100=(np.linalg.solve(Hlr,b))\n",
    "T=np.append(T1_10,T11_100)\n",
    "print(T)\n",
    "print(glo@T)"
   ]
  },
  {
   "cell_type": "code",
   "execution_count": 73,
   "metadata": {},
   "outputs": [
    {
     "data": {
      "text/plain": [
       "<matplotlib.quiver.Quiver at 0x7f40489adcd0>"
      ]
     },
     "execution_count": 73,
     "metadata": {},
     "output_type": "execute_result"
    },
    {
     "data": {
      "image/png": "[encoded data removed]",
      "text/plain": [
       "<Figure size 432x288 with 1 Axes>"
      ]
     },
     "metadata": {
      "needs_background": "light"
     },
     "output_type": "display_data"
    }
   ],
   "source": [
    "#fluxes\n",
    "dT=np.zeros((len(cells),2))\n",
    "q=np.zeros((len(cells),2))\n",
    "kvec=np.array([[401,0],[0,401]])\n",
    "for i in range(len(cells)):\n",
    "    x1,x2,x3=points[cells[i]][0][0],points[cells[i]][1][0],points[cells[i]][2][0]\n",
    "    y1,y2,y3=points[cells[i]][0][1],points[cells[i]][1][1],points[cells[i]][2][1]\n",
    "    b1,b2,b3=y2-y3,y3-y1,y1-y2\n",
    "    c1,c2,c3=x3-x2,x1-x3,x2-x1\n",
    "    delta=(x1*b1+x2*b2+x3*b3)/2\n",
    "    bc=np.array([[b1,b2,b3],[c1,c2,c3]])\n",
    "    temps=np.array([T[cells[i][0]],T[cells[i][1]],T[cells[i][2]]])\n",
    "    vector=np.array(bc@temps/(2*delta))\n",
    "    dT[i]=vector\n",
    "    q[i]=-kvec@vector\n",
    "\n",
    "plt.quiver(points[:,0],points[:,1],dT[:,0],dT[:,1])"
   ]
  },
  {
   "cell_type": "code",
   "execution_count": 74,
   "metadata": {},
   "outputs": [
    {
     "data": {
      "text/plain": [
       "<matplotlib.quiver.Quiver at 0x7f4048919610>"
      ]
     },
     "execution_count": 74,
     "metadata": {},
     "output_type": "execute_result"
    },
    {
     "data": {
      "image/png": "[encoded data removed]",
      "text/plain": [
       "<Figure size 432x288 with 1 Axes>"
      ]
     },
     "metadata": {
      "needs_background": "light"
     },
     "output_type": "display_data"
    }
   ],
   "source": [
    "plt.quiver(points[:,0],points[:,1],q[:,0],q[:,1])"
   ]
  },
  {
   "cell_type": "code",
   "execution_count": null,
   "metadata": {},
   "outputs": [],
   "source": []
  }
 ],
 "metadata": {
  "kernelspec": {
   "display_name": "Python 3",
   "language": "python",
   "name": "python3"
  },
  "language_info": {
   "codemirror_mode": {
    "name": "ipython",
    "version": 3
   },
   "file_extension": ".py",
   "mimetype": "text/x-python",
   "name": "python",
   "nbconvert_exporter": "python",
   "pygments_lexer": "ipython3",
   "version": "3.8.5"
  }
 },
 "nbformat": 4,
 "nbformat_minor": 4
}
